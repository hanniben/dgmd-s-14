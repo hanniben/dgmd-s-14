{
 "cells": [
  {
   "cell_type": "code",
   "execution_count": 2,
   "metadata": {},
   "outputs": [
    {
     "data": {
      "text/plain": [
       "'3.4'"
      ]
     },
     "execution_count": 2,
     "metadata": {},
     "output_type": "execute_result"
    }
   ],
   "source": [
    "import scipy\n",
    "import serial\n",
    "\n",
    "serial.__version__"
   ]
  },
  {
   "cell_type": "code",
   "execution_count": 3,
   "metadata": {
    "scrolled": false
   },
   "outputs": [
    {
     "name": "stdout",
     "output_type": "stream",
     "text": [
      "b'1008'\n",
      "1008\n"
     ]
    }
   ],
   "source": [
    "portname = '/dev/tty.usbmodemFFFFFFFEFFFF1'\n",
    "\n",
    "ser = serial.Serial(portname, 9600)\n",
    "xx = ser.readline()\n",
    "print(xx[0:4])\n",
    "xx_int = int(xx[0:4])\n",
    "print(xx_int)"
   ]
  },
  {
   "cell_type": "code",
   "execution_count": 4,
   "metadata": {},
   "outputs": [
    {
     "name": "stdout",
     "output_type": "stream",
     "text": [
      "b'1009'\n",
      "1009\n",
      "b'{\"Results\": {\"WebServiceOutput0\": [{\"10spressuresum\": 1009.0, \"classification\": \"-\", \"Scored Labels\": \"long\", \"Scored Probabilities\": 9.487269034513134e-60}]}}'\n",
      "b'1016'\n",
      "1016\n",
      "b'{\"Results\": {\"WebServiceOutput0\": [{\"10spressuresum\": 1016.0, \"classification\": \"-\", \"Scored Labels\": \"long\", \"Scored Probabilities\": 3.565961736808406e-60}]}}'\n",
      "b'1003'\n",
      "1003\n",
      "b'{\"Results\": {\"WebServiceOutput0\": [{\"10spressuresum\": 1003.0, \"classification\": \"-\", \"Scored Labels\": \"long\", \"Scored Probabilities\": 2.1948079973717303e-59}]}}'\n",
      "b'1034'\n",
      "1034\n",
      "b'{\"Results\": {\"WebServiceOutput0\": [{\"10spressuresum\": 1034.0, \"classification\": \"-\", \"Scored Labels\": \"long\", \"Scored Probabilities\": 2.8801209453249434e-61}]}}'\n",
      "b'1022'\n",
      "1022\n",
      "b'{\"Results\": {\"WebServiceOutput0\": [{\"10spressuresum\": 1022.0, \"classification\": \"-\", \"Scored Labels\": \"long\", \"Scored Probabilities\": 1.541421318146951e-60}]}}'\n",
      "b'1012'\n",
      "1012\n",
      "b'{\"Results\": {\"WebServiceOutput0\": [{\"10spressuresum\": 1012.0, \"classification\": \"-\", \"Scored Labels\": \"long\", \"Scored Probabilities\": 6.237543068789873e-60}]}}'\n",
      "b'1008'\n",
      "1008\n",
      "b'{\"Results\": {\"WebServiceOutput0\": [{\"10spressuresum\": 1008.0, \"classification\": \"-\", \"Scored Labels\": \"long\", \"Scored Probabilities\": 1.0910645263914704e-59}]}}'\n",
      "b'1044'\n",
      "1044\n",
      "b'{\"Results\": {\"WebServiceOutput0\": [{\"10spressuresum\": 1044.0, \"classification\": \"-\", \"Scored Labels\": \"long\", \"Scored Probabilities\": 7.117353379375874e-62}]}}'\n",
      "b'9982'\n",
      "9982\n",
      "b'{\"Results\": {\"WebServiceOutput0\": [{\"10spressuresum\": 9982.0, \"classification\": \"-\", \"Scored Labels\": \"long\", \"Scored Probabilities\": 0.0}]}}'\n",
      "b'1030'\n",
      "1030\n",
      "b'{\"Results\": {\"WebServiceOutput0\": [{\"10spressuresum\": 1030.0, \"classification\": \"-\", \"Scored Labels\": \"long\", \"Scored Probabilities\": 5.037877511234037e-61}]}}'\n"
     ]
    },
    {
     "ename": "KeyboardInterrupt",
     "evalue": "",
     "output_type": "error",
     "traceback": [
      "\u001b[0;31m---------------------------------------------------------------------------\u001b[0m",
      "\u001b[0;31mKeyboardInterrupt\u001b[0m                         Traceback (most recent call last)",
      "\u001b[0;32m<ipython-input-4-37780f75e345>\u001b[0m in \u001b[0;36m<module>\u001b[0;34m\u001b[0m\n\u001b[1;32m     12\u001b[0m \u001b[0;34m\u001b[0m\u001b[0m\n\u001b[1;32m     13\u001b[0m     \u001b[0mser\u001b[0m \u001b[0;34m=\u001b[0m \u001b[0mserial\u001b[0m\u001b[0;34m.\u001b[0m\u001b[0mSerial\u001b[0m\u001b[0;34m(\u001b[0m\u001b[0mportname\u001b[0m\u001b[0;34m,\u001b[0m \u001b[0;36m9600\u001b[0m\u001b[0;34m)\u001b[0m\u001b[0;34m\u001b[0m\u001b[0;34m\u001b[0m\u001b[0m\n\u001b[0;32m---> 14\u001b[0;31m     \u001b[0mxx\u001b[0m \u001b[0;34m=\u001b[0m \u001b[0mser\u001b[0m\u001b[0;34m.\u001b[0m\u001b[0mreadline\u001b[0m\u001b[0;34m(\u001b[0m\u001b[0;34m)\u001b[0m\u001b[0;34m\u001b[0m\u001b[0;34m\u001b[0m\u001b[0m\n\u001b[0m\u001b[1;32m     15\u001b[0m     \u001b[0mprint\u001b[0m\u001b[0;34m(\u001b[0m\u001b[0mxx\u001b[0m\u001b[0;34m[\u001b[0m\u001b[0;36m0\u001b[0m\u001b[0;34m:\u001b[0m\u001b[0;36m4\u001b[0m\u001b[0;34m]\u001b[0m\u001b[0;34m)\u001b[0m\u001b[0;34m\u001b[0m\u001b[0;34m\u001b[0m\u001b[0m\n\u001b[1;32m     16\u001b[0m     \u001b[0mxx_int\u001b[0m \u001b[0;34m=\u001b[0m \u001b[0mint\u001b[0m\u001b[0;34m(\u001b[0m\u001b[0mxx\u001b[0m\u001b[0;34m[\u001b[0m\u001b[0;36m0\u001b[0m\u001b[0;34m:\u001b[0m\u001b[0;36m4\u001b[0m\u001b[0;34m]\u001b[0m\u001b[0;34m)\u001b[0m\u001b[0;34m\u001b[0m\u001b[0;34m\u001b[0m\u001b[0m\n",
      "\u001b[0;32m~/anaconda3/lib/python3.8/site-packages/serial/serialposix.py\u001b[0m in \u001b[0;36mread\u001b[0;34m(self, size)\u001b[0m\n\u001b[1;32m    481\u001b[0m         \u001b[0;32mwhile\u001b[0m \u001b[0mlen\u001b[0m\u001b[0;34m(\u001b[0m\u001b[0mread\u001b[0m\u001b[0;34m)\u001b[0m \u001b[0;34m<\u001b[0m \u001b[0msize\u001b[0m\u001b[0;34m:\u001b[0m\u001b[0;34m\u001b[0m\u001b[0;34m\u001b[0m\u001b[0m\n\u001b[1;32m    482\u001b[0m             \u001b[0;32mtry\u001b[0m\u001b[0;34m:\u001b[0m\u001b[0;34m\u001b[0m\u001b[0;34m\u001b[0m\u001b[0m\n\u001b[0;32m--> 483\u001b[0;31m                 \u001b[0mready\u001b[0m\u001b[0;34m,\u001b[0m \u001b[0m_\u001b[0m\u001b[0;34m,\u001b[0m \u001b[0m_\u001b[0m \u001b[0;34m=\u001b[0m \u001b[0mselect\u001b[0m\u001b[0;34m.\u001b[0m\u001b[0mselect\u001b[0m\u001b[0;34m(\u001b[0m\u001b[0;34m[\u001b[0m\u001b[0mself\u001b[0m\u001b[0;34m.\u001b[0m\u001b[0mfd\u001b[0m\u001b[0;34m,\u001b[0m \u001b[0mself\u001b[0m\u001b[0;34m.\u001b[0m\u001b[0mpipe_abort_read_r\u001b[0m\u001b[0;34m]\u001b[0m\u001b[0;34m,\u001b[0m \u001b[0;34m[\u001b[0m\u001b[0;34m]\u001b[0m\u001b[0;34m,\u001b[0m \u001b[0;34m[\u001b[0m\u001b[0;34m]\u001b[0m\u001b[0;34m,\u001b[0m \u001b[0mtimeout\u001b[0m\u001b[0;34m.\u001b[0m\u001b[0mtime_left\u001b[0m\u001b[0;34m(\u001b[0m\u001b[0;34m)\u001b[0m\u001b[0;34m)\u001b[0m\u001b[0;34m\u001b[0m\u001b[0;34m\u001b[0m\u001b[0m\n\u001b[0m\u001b[1;32m    484\u001b[0m                 \u001b[0;32mif\u001b[0m \u001b[0mself\u001b[0m\u001b[0;34m.\u001b[0m\u001b[0mpipe_abort_read_r\u001b[0m \u001b[0;32min\u001b[0m \u001b[0mready\u001b[0m\u001b[0;34m:\u001b[0m\u001b[0;34m\u001b[0m\u001b[0;34m\u001b[0m\u001b[0m\n\u001b[1;32m    485\u001b[0m                     \u001b[0mos\u001b[0m\u001b[0;34m.\u001b[0m\u001b[0mread\u001b[0m\u001b[0;34m(\u001b[0m\u001b[0mself\u001b[0m\u001b[0;34m.\u001b[0m\u001b[0mpipe_abort_read_r\u001b[0m\u001b[0;34m,\u001b[0m \u001b[0;36m1000\u001b[0m\u001b[0;34m)\u001b[0m\u001b[0;34m\u001b[0m\u001b[0;34m\u001b[0m\u001b[0m\n",
      "\u001b[0;31mKeyboardInterrupt\u001b[0m: "
     ]
    }
   ],
   "source": [
    "import urllib.request\n",
    "\n",
    "import json\n",
    "\n",
    "import os\n",
    "\n",
    "import ssl\n",
    "\n",
    "x=1\n",
    "\n",
    "while x==1:\n",
    "    \n",
    "    ser = serial.Serial(portname, 9600)\n",
    "    xx = ser.readline()\n",
    "    print(xx[0:4])\n",
    "    xx_int = int(xx[0:4])\n",
    "    print(xx_int)\n",
    "\n",
    "    def allowSelfSignedHttps(allowed):\n",
    "\n",
    "        if allowed and not os.environ.get('PYTHONHTTPSVERIFY', '') and getattr(ssl, '_create_unverified_context', None):\n",
    "\n",
    "            ssl._create_default_https_context = ssl._create_unverified_context\n",
    "\n",
    "    allowSelfSignedHttps(True)\n",
    "\n",
    "    # Request data goes here\n",
    "\n",
    "    data = {\n",
    "\n",
    "        \"Inputs\": {\n",
    "\n",
    "            \"WebServiceInput0\":\n",
    "\n",
    "            [\n",
    "\n",
    "                {\n",
    "\n",
    "                    '10spressuresum': xx_int,\n",
    "\n",
    "                    'classification': \"-\",\n",
    "\n",
    "                },\n",
    "\n",
    "            ],\n",
    "\n",
    "        },\n",
    "\n",
    "        \"GlobalParameters\": {\n",
    "\n",
    "        }\n",
    "\n",
    "    }\n",
    "\n",
    "    body = str.encode(json.dumps(data))\n",
    "\n",
    "    url = 'http://1dc41afe-7806-4520-8b6e-c21e769af906.eastus.azurecontainer.io/score'\n",
    "\n",
    "    api_key = 'llWEt5kwz3PF4tXFWQ8eboUIO4ilgxPf'\n",
    "\n",
    "    headers = {'Content-Type':'application/json', 'Authorization':('Bearer '+ api_key)}\n",
    "\n",
    "    req = urllib.request.Request(url, body, headers)\n",
    "\n",
    "    try:\n",
    "\n",
    "        response = urllib.request.urlopen(req)\n",
    "\n",
    "        result = response.read()\n",
    "\n",
    "        print(result)\n",
    "\n",
    "    except urllib.error.HTTPError as error:\n",
    "\n",
    "        print(\"The request failed with status code: \" + str(error.code))\n",
    "\n",
    "        print(error.info())\n",
    "\n",
    "        print(json.loads(error.read().decode(\"utf8\", 'ignore')))\n",
    "    \n"
   ]
  },
  {
   "cell_type": "code",
   "execution_count": null,
   "metadata": {},
   "outputs": [],
   "source": []
  },
  {
   "cell_type": "code",
   "execution_count": null,
   "metadata": {},
   "outputs": [],
   "source": []
  }
 ],
 "metadata": {
  "kernelspec": {
   "display_name": "Python 3",
   "language": "python",
   "name": "python3"
  },
  "language_info": {
   "codemirror_mode": {
    "name": "ipython",
    "version": 3
   },
   "file_extension": ".py",
   "mimetype": "text/x-python",
   "name": "python",
   "nbconvert_exporter": "python",
   "pygments_lexer": "ipython3",
   "version": "3.8.5"
  }
 },
 "nbformat": 4,
 "nbformat_minor": 4
}
