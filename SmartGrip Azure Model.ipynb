x=1

while x==1:
    
    ser = serial.Serial(portname, 9600)
    xx = ser.readline()
    xx_str = str(xx)
    print(xx)
    
    if not 'Start' in xx_str:
        
        xx_int = int(xx)

        def allowSelfSignedHttps(allowed):

            if allowed and not os.environ.get('PYTHONHTTPSVERIFY', '') and getattr(ssl, '_create_unverified_context', None):

                ssl._create_default_https_context = ssl._create_unverified_context

        allowSelfSignedHttps(True)

        # Request data goes here

        data = {

            "Inputs": {

                "WebServiceInput0":

                [

                    {

                        '10spressuresum': xx_int/100,

                        'classification': "-",

                    },

                ],

            },

            "GlobalParameters": {

            }

        }

        body = str.encode(json.dumps(data))

        url = 'http://1dc41afe-7806-4520-8b6e-c21e769af906.eastus.azurecontainer.io/score'

        api_key = 'llWEt5kwz3PF4tXFWQ8eboUIO4ilgxPf'

        headers = {'Content-Type':'application/json', 'Authorization':('Bearer '+ api_key)}

        req = urllib.request.Request(url, body, headers)

        try:

            response = urllib.request.urlopen(req)

            result = response.read()

            print(result)

        except urllib.error.HTTPError as error:

            print("The request failed with status code: " + str(error.code))

            print(error.info())

            print(json.loads(error.read().decode("utf8", 'ignore')))
    
