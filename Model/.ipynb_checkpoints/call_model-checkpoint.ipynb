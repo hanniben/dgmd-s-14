{
 "cells": [
  {
   "cell_type": "code",
   "execution_count": 1,
   "id": "c0874235-f5e8-4938-8e05-4a1f751fd550",
   "metadata": {},
   "outputs": [],
   "source": [
    "# Professor:\n",
    "\n",
    "# if you want to test the model rest api to get a 'short' or 'long' classification,\n",
    "\n",
    "# you can send the pressure in the '10pressuresum' variable below\n",
    "\n",
    "# all parameters (rest api endpoint and key) are already configured"
   ]
  },
  {
   "cell_type": "code",
   "execution_count": 2,
   "id": "04c04a43",
   "metadata": {},
   "outputs": [],
   "source": [
    "import scipy\n",
    "import serial\n",
    "import urllib.request\n",
    "import json\n",
    "import os\n",
    "import ssl"
   ]
  },
  {
   "cell_type": "code",
   "execution_count": 3,
   "id": "80ea6830",
   "metadata": {},
   "outputs": [
    {
     "name": "stdout",
     "output_type": "stream",
     "text": [
      "b'{\"Results\": {\"WebServiceOutput0\": [{\"10spressuresum\": 30.0, \"classification\": \"-\", \"Scored Labels\": \"short\", \"Scored Probabilities\": 0.7205997106714878}]}}'\n"
     ]
    }
   ],
   "source": [
    "def allowSelfSignedHttps(allowed):\n",
    "\n",
    "    if allowed and not os.environ.get('PYTHONHTTPSVERIFY', '') and getattr(ssl, '_create_unverified_context', None):\n",
    "\n",
    "        ssl._create_default_https_context = ssl._create_unverified_context\n",
    "\n",
    "# Request data goes here\n",
    "\n",
    "data = {\n",
    "\n",
    "    \"Inputs\": {\n",
    "\n",
    "        \"WebServiceInput0\":\n",
    "\n",
    "        [\n",
    "\n",
    "            {\n",
    "\n",
    "                '10spressuresum': 30,\n",
    "\n",
    "                'classification': \"-\",\n",
    "\n",
    "            },\n",
    "\n",
    "        ],\n",
    "\n",
    "    },\n",
    "\n",
    "    \"GlobalParameters\": {\n",
    "\n",
    "    }\n",
    "\n",
    "}\n",
    "\n",
    "body = str.encode(json.dumps(data))\n",
    "\n",
    "url = 'http://1dc41afe-7806-4520-8b6e-c21e769af906.eastus.azurecontainer.io/score'\n",
    "\n",
    "api_key = 'llWEt5kwz3PF4tXFWQ8eboUIO4ilgxPf'\n",
    "\n",
    "headers = {'Content-Type':'application/json', 'Authorization':('Bearer '+ api_key)}\n",
    "\n",
    "req = urllib.request.Request(url, body, headers)\n",
    "\n",
    "try:\n",
    "\n",
    "    response = urllib.request.urlopen(req)\n",
    "\n",
    "    result = response.read()\n",
    "\n",
    "    print(result)\n",
    "\n",
    "except urllib.error.HTTPError as error:\n",
    "\n",
    "    print(\"The request failed with status code: \" + str(error.code))\n",
    "\n",
    "    print(error.info())\n",
    "\n",
    "    print(json.loads(error.read().decode(\"utf8\", 'ignore')))"
   ]
  },
  {
   "cell_type": "code",
   "execution_count": null,
   "id": "ce2e379d",
   "metadata": {},
   "outputs": [],
   "source": []
  }
 ],
 "metadata": {
  "kernelspec": {
   "display_name": "Python 3",
   "language": "python",
   "name": "python3"
  },
  "language_info": {
   "codemirror_mode": {
    "name": "ipython",
    "version": 3
   },
   "file_extension": ".py",
   "mimetype": "text/x-python",
   "name": "python",
   "nbconvert_exporter": "python",
   "pygments_lexer": "ipython3",
   "version": "3.8.8"
  }
 },
 "nbformat": 4,
 "nbformat_minor": 5
}
